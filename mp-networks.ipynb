{
 "cells": [
  {
   "cell_type": "markdown",
   "metadata": {},
   "source": [
    "<blockquote>It's better to have questions you can't answer, then answers you can't question.\n",
    "<p>\n",
    "-- Richard Feynman\n",
    "</blockquote>"
   ]
  },
  {
   "cell_type": "code",
   "execution_count": 7,
   "metadata": {},
   "outputs": [],
   "source": [
    "import numpy as np\n",
    "import tensorflow as tf"
   ]
  },
  {
   "cell_type": "markdown",
   "metadata": {},
   "source": [
    "<img src=\"./images/orgate.png\" alt=\"drawing\" style=\"width:200px;\"/>\n",
    "\n",
    "$$\n",
    "activate(X, W) = \n",
    "  \\begin{cases}\n",
    "    1, & \\text{if} \\sum (x_i*w_i) >= 2\\\\\n",
    "    0, & \\text{otherwise}\\\\\n",
    "  \\end{cases}\n",
    "$$\n",
    "\n"
   ]
  },
  {
   "cell_type": "code",
   "execution_count": 8,
   "metadata": {},
   "outputs": [],
   "source": [
    "def or_gate(a,b):\n",
    "    # weights\n",
    "    w_a = 2\n",
    "    w_b = 2\n",
    "    # McCulloch Pitts activation function (threshold=2)\n",
    "    if (a*w_a)+(b*w_b) >= 2: \n",
    "        return 1\n",
    "    else: # < t\n",
    "        return 0"
   ]
  },
  {
   "cell_type": "code",
   "execution_count": 9,
   "metadata": {},
   "outputs": [
    {
     "name": "stdout",
     "output_type": "stream",
     "text": [
      "0\n",
      "1\n",
      "1\n",
      "1\n"
     ]
    }
   ],
   "source": [
    "print( or_gate(0,0) )\n",
    "print( or_gate(0,1) )\n",
    "print( or_gate(1,0) )\n",
    "print( or_gate(1,1) )"
   ]
  },
  {
   "cell_type": "code",
   "execution_count": 10,
   "metadata": {},
   "outputs": [],
   "source": [
    "# One layer McCulloch-Pitts logic gate\n",
    "def gate(x1,x2,w1,w2,activate=lambda x:x>=2):\n",
    "    return int(activate((x1*w1)+(x2*w2)))\n",
    "\n",
    "def printTruth(label,w1,w2,activate):\n",
    "    print('testing \"{}\" gate...'.format(label))\n",
    "    for x1 in [0,1]:\n",
    "        for x2 in [0,1]:\n",
    "            result = gate(x1,x2,w1,w2,activate)\n",
    "            print ('{} {} {} = {}'.format(x1,label,x2,result))"
   ]
  },
  {
   "cell_type": "markdown",
   "metadata": {},
   "source": [
    "<img src=\"./images/andgate.png\" alt=\"drawing\" style=\"width:200px;\"/>"
   ]
  },
  {
   "cell_type": "code",
   "execution_count": 11,
   "metadata": {},
   "outputs": [
    {
     "name": "stdout",
     "output_type": "stream",
     "text": [
      "testing \"and\" gate...\n",
      "0 and 0 = 0\n",
      "0 and 1 = 0\n",
      "1 and 0 = 0\n",
      "1 and 1 = 1\n"
     ]
    }
   ],
   "source": [
    "# test \"and\" gate \n",
    "printTruth('and', 1,1, lambda x:x>=2)"
   ]
  },
  {
   "cell_type": "markdown",
   "metadata": {},
   "source": [
    "<img src=\"./images/orgate.png\" alt=\"drawing\" style=\"width:200px;\"/>"
   ]
  },
  {
   "cell_type": "code",
   "execution_count": 12,
   "metadata": {},
   "outputs": [
    {
     "name": "stdout",
     "output_type": "stream",
     "text": [
      "testing \"or\" gate...\n",
      "0 or 0 = 0\n",
      "0 or 1 = 1\n",
      "1 or 0 = 1\n",
      "1 or 1 = 1\n"
     ]
    }
   ],
   "source": [
    "# test \"or\" gate \n",
    "printTruth('or', 2,2, lambda x:x>=2)\n"
   ]
  },
  {
   "cell_type": "markdown",
   "metadata": {},
   "source": [
    "<img src=\"./images/nandgate.png\" alt=\"drawing\" style=\"width:200px;\"/>"
   ]
  },
  {
   "cell_type": "code",
   "execution_count": 13,
   "metadata": {},
   "outputs": [
    {
     "name": "stdout",
     "output_type": "stream",
     "text": [
      "testing \"and not\" gate...\n",
      "0 and not 0 = 0\n",
      "0 and not 1 = 0\n",
      "1 and not 0 = 1\n",
      "1 and not 1 = 0\n"
     ]
    }
   ],
   "source": [
    "# test \"and not\" gate \n",
    "printTruth('and not', 2,-1, lambda x:x>=2)"
   ]
  },
  {
   "cell_type": "markdown",
   "metadata": {},
   "source": [
    "<img src=\"./images/xorgate.png\" alt=\"drawing\" style=\"width:300px;\"/>"
   ]
  },
  {
   "cell_type": "markdown",
   "metadata": {},
   "source": [
    "It is not possible to create an XOR gate with one layer, but it is easy enough if you add two layers.   It was thought that adding layers made neural networks more powerfull, i.e., able to handle harder problems.\n",
    "\n",
    "Until Minsky and Pappert."
   ]
  }
 ],
 "metadata": {
  "kernelspec": {
   "display_name": "Python 3",
   "language": "python",
   "name": "python3"
  },
  "language_info": {
   "codemirror_mode": {
    "name": "ipython",
    "version": 3
   },
   "file_extension": ".py",
   "mimetype": "text/x-python",
   "name": "python",
   "nbconvert_exporter": "python",
   "pygments_lexer": "ipython3",
   "version": "3.6.5"
  }
 },
 "nbformat": 4,
 "nbformat_minor": 2
}
