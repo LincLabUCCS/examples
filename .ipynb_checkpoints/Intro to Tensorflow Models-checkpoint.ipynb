{
 "cells": [
  {
   "cell_type": "code",
   "execution_count": 1,
   "metadata": {},
   "outputs": [],
   "source": [
    "import tensorflow as tf\n",
    "import numpy as np\n",
    "import matplotlib.pyplot as plt"
   ]
  },
  {
   "cell_type": "markdown",
   "metadata": {},
   "source": [
    "Write a program to calculate values along a line:\n",
    "`y = mx + b` "
   ]
  },
  {
   "cell_type": "code",
   "execution_count": 2,
   "metadata": {},
   "outputs": [
    {
     "name": "stdout",
     "output_type": "stream",
     "text": [
      "49.2\n"
     ]
    }
   ],
   "source": [
    "m = 2.4\n",
    "b = 42\n",
    "x = 3\n",
    "y = (m*x) + b\n",
    "print(y)"
   ]
  },
  {
   "cell_type": "markdown",
   "metadata": {},
   "source": [
    "Let me turn the `m` upside-down and write `w` instead, because in Machine Learning we talk about `weights` (w) and biases (b) so we have :\n",
    "\n",
    "\\begin{equation}\n",
    "    y = w*x + b\n",
    "\\end{equation}\n",
    "\n",
    "Note that this function is a specific case \n",
    "of a linear function:\n",
    "\n",
    "\\begin{equation}\n",
    "y = (w_n*x_n) + (w_{n-1}*x_{n-1}) + \\dots + w_{0}*x_{0} + b\n",
    "\\end{equation}"
   ]
  },
  {
   "cell_type": "markdown",
   "metadata": {},
   "source": [
    "Now, we'll use  tensorflow to write our program.  No big difference but it looks like other languages to explicitly instantiate variables. \n",
    "But what happens when we try to print out the results..."
   ]
  },
  {
   "cell_type": "code",
   "execution_count": 3,
   "metadata": {},
   "outputs": [
    {
     "name": "stdout",
     "output_type": "stream",
     "text": [
      "Tensor(\"add:0\", shape=(), dtype=float32)\n"
     ]
    }
   ],
   "source": [
    "import tensorflow as tf\n",
    "w = tf.Variable(2.4)\n",
    "b = tf.Variable(42.)\n",
    "x = tf.Variable(3.)\n",
    "y = (w*x)+b\n",
    "print(y)"
   ]
  },
  {
   "cell_type": "markdown",
   "metadata": {},
   "source": [
    "<img src=\"./images/ymxpb.png\" alt=\"drawing\" style=\"width:300px;\"/>"
   ]
  },
  {
   "cell_type": "markdown",
   "metadata": {},
   "source": [
    "Note that \\begin{equation}y=(w*x)+b\\end{equation} could be written \\begin{equation}y = tf.add(tf.multiply(x,w),b)\\end{equation}"
   ]
  },
  {
   "cell_type": "markdown",
   "metadata": {},
   "source": [
    "In order to get the actual result we have to `run` the model...  But, before we can\n",
    "do that we have to initialize all the variables...."
   ]
  },
  {
   "cell_type": "code",
   "execution_count": 4,
   "metadata": {},
   "outputs": [],
   "source": [
    "sess = tf.Session()\n",
    "init = tf.global_variables_initializer()\n",
    "sess.run(init)"
   ]
  },
  {
   "cell_type": "markdown",
   "metadata": {},
   "source": [
    "Then we can run the model to get the result."
   ]
  },
  {
   "cell_type": "code",
   "execution_count": 5,
   "metadata": {},
   "outputs": [
    {
     "name": "stdout",
     "output_type": "stream",
     "text": [
      "49.2\n"
     ]
    }
   ],
   "source": [
    "val = sess.run(y)\n",
    "print(val)"
   ]
  },
  {
   "cell_type": "markdown",
   "metadata": {},
   "source": [
    "That is a lot of work just to replace a few lines of Python code.\n",
    "\n",
    "Why do this? ... We don't write programs any more.  We create models that learn programs."
   ]
  },
  {
   "cell_type": "markdown",
   "metadata": {},
   "source": [
    "The real problem is: \n",
    "* *We had to know the line parameters* in order to write the function.\n",
    "* i.e., We had to know the values for slope (m or w) and offset (b) before we wrote the program.\n",
    "\n",
    "Wouldn't it be nice if the program could **learn these parameters** on it's own, from data.\n",
    "* That is the essence of Machine Learning. \n",
    "* That is what a model is for. \n",
    "* This is what TensorFlow can do."
   ]
  },
  {
   "cell_type": "code",
   "execution_count": 10,
   "metadata": {},
   "outputs": [],
   "source": [
    "# first let's formalize our model by making a function\n",
    "# what does this return?\n",
    "def model(X, w, b):\n",
    "    return tf.add(tf.multiply(X, w), b, name='myModel')"
   ]
  },
  {
   "cell_type": "markdown",
   "metadata": {},
   "source": [
    "First, we want the model to learn the slope (w) and the offset (b).  "
   ]
  },
  {
   "cell_type": "markdown",
   "metadata": {},
   "source": [
    "For the model to 'learn' we need to re-write it a little...  "
   ]
  },
  {
   "cell_type": "markdown",
   "metadata": {},
   "source": [
    "The other 'variables'; 'x' and 'y' are the data that we use to train the model."
   ]
  },
  {
   "cell_type": "code",
   "execution_count": 11,
   "metadata": {},
   "outputs": [],
   "source": [
    "X = tf.placeholder(\"float\") # placeholders are filled \n",
    "Y = tf.placeholder(\"float\") # from training data"
   ]
  },
  {
   "cell_type": "code",
   "execution_count": 12,
   "metadata": {},
   "outputs": [],
   "source": [
    "w = tf.Variable(0.0, name=\"weights\") # variables are learned,\n",
    "b = tf.Variable(0.0)                 # i.e., filled by training"
   ]
  },
  {
   "cell_type": "code",
   "execution_count": 13,
   "metadata": {},
   "outputs": [],
   "source": [
    "# instantiate our model\n",
    "y_model = model(X, w, b)\n",
    "# print(y_model)"
   ]
  },
  {
   "cell_type": "markdown",
   "metadata": {},
   "source": [
    "Before we continue let's generate some training data:"
   ]
  },
  {
   "cell_type": "code",
   "execution_count": 18,
   "metadata": {},
   "outputs": [],
   "source": [
    "# generate a distribution of x values    \n",
    "x_train = np.linspace(-1, 1, 50)\n",
    "# choose a slope and intercept that we will try to learn\n",
    "slope = 2.4; intercept = 42\n",
    "# generate y data with random errors    \n",
    "y_train = (slope * x_train) \\\n",
    "    + np.random.randn(*x_train.shape) * 1.255 + intercept"
   ]
  },
  {
   "cell_type": "code",
   "execution_count": 19,
   "metadata": {},
   "outputs": [
    {
     "data": {
      "text/plain": [
       "<matplotlib.collections.PathCollection at 0x7fa579222780>"
      ]
     },
     "execution_count": 19,
     "metadata": {},
     "output_type": "execute_result"
    },
    {
     "data": {
      "image/png": "[encoded data removed]",
      "text/plain": [
       "<Figure size 432x288 with 1 Axes>"
      ]
     },
     "metadata": {},
     "output_type": "display_data"
    }
   ],
   "source": [
    "# Let's see what the training data looks like.\n",
    "import matplotlib.pyplot as plt\n",
    "plt.scatter(x_train, y_train)"
   ]
  },
  {
   "cell_type": "markdown",
   "metadata": {},
   "source": [
    "How can we learn \"w\" and \"b\" for a line that is the best fit?\n",
    "\n",
    "Every Machine Learning (ML) model needs 2 things\n",
    "* cost function\n",
    "* learning function"
   ]
  },
  {
   "cell_type": "code",
   "execution_count": 20,
   "metadata": {},
   "outputs": [
    {
     "name": "stdout",
     "output_type": "stream",
     "text": [
      "Tensor(\"sub:0\", dtype=float32)\n",
      "Tensor(\"Mean:0\", shape=(), dtype=float32)\n"
     ]
    }
   ],
   "source": [
    "# the cost function (error function)\n",
    "error = Y-y_model\n",
    "cost = tf.reduce_mean(tf.square(error)) # MSE\n",
    "\n",
    "# in case you forgot... these are tensors\n",
    "print(error)\n",
    "print(cost)"
   ]
  },
  {
   "cell_type": "markdown",
   "metadata": {},
   "source": [
    "**Sidebar:** Why use ``squared`` error?"
   ]
  },
  {
   "cell_type": "markdown",
   "metadata": {},
   "source": [
    "* It's always positive.\n",
    "* It's easy to find the minimum.\n",
    "<img src=\"./images/x2.png\" alt=\"drawing\" style=\"width:300px;\"/>"
   ]
  },
  {
   "cell_type": "code",
   "execution_count": 21,
   "metadata": {},
   "outputs": [],
   "source": [
    "learning_rate = 0.01\n",
    "train_op = \\\n",
    "tf.train.GradientDescentOptimizer(learning_rate).minimize(cost)"
   ]
  },
  {
   "cell_type": "code",
   "execution_count": 22,
   "metadata": {},
   "outputs": [],
   "source": [
    "sess = tf.Session()\n",
    "init = tf.global_variables_initializer()\n",
    "sess.run(init)"
   ]
  },
  {
   "cell_type": "code",
   "execution_count": 27,
   "metadata": {},
   "outputs": [],
   "source": [
    "# ready to train the model... where did it go?\n",
    "training_epochs =500\n",
    "for epoch in range(training_epochs):\n",
    "    for (x, y) in zip(x_train, y_train):\n",
    "        sess.run(train_op, feed_dict={X: x, Y: y})"
   ]
  },
  {
   "cell_type": "code",
   "execution_count": 28,
   "metadata": {},
   "outputs": [
    {
     "data": {
      "text/plain": [
       "2.6889708"
      ]
     },
     "execution_count": 28,
     "metadata": {},
     "output_type": "execute_result"
    }
   ],
   "source": [
    "w_val = sess.run(w)\n",
    "w_val"
   ]
  },
  {
   "cell_type": "code",
   "execution_count": 29,
   "metadata": {},
   "outputs": [
    {
     "data": {
      "text/plain": [
       "42.192272"
      ]
     },
     "execution_count": 29,
     "metadata": {},
     "output_type": "execute_result"
    }
   ],
   "source": [
    "b_val = sess.run(b)\n",
    "b_val"
   ]
  },
  {
   "cell_type": "code",
   "execution_count": 30,
   "metadata": {},
   "outputs": [
    {
     "data": {
      "image/png": "[encoded data removed]",
      "text/plain": [
       "<Figure size 432x288 with 1 Axes>"
      ]
     },
     "metadata": {},
     "output_type": "display_data"
    }
   ],
   "source": [
    "plt.scatter(x_train, y_train)\n",
    "y_learned = x_train*w_val\n",
    "plt.plot(x_train, y_learned+b_val, 'r')\n",
    "plt.show()"
   ]
  },
  {
   "cell_type": "markdown",
   "metadata": {},
   "source": [
    "Does this work with any function?"
   ]
  },
  {
   "cell_type": "markdown",
   "metadata": {},
   "source": [
    "Could have done this with one matrix calculation.\n"
   ]
  },
  {
   "cell_type": "code",
   "execution_count": null,
   "metadata": {},
   "outputs": [],
   "source": []
  }
 ],
 "metadata": {
  "kernelspec": {
   "display_name": "Python 3",
   "language": "python",
   "name": "python3"
  },
  "language_info": {
   "codemirror_mode": {
    "name": "ipython",
    "version": 3
   },
   "file_extension": ".py",
   "mimetype": "text/x-python",
   "name": "python",
   "nbconvert_exporter": "python",
   "pygments_lexer": "ipython3",
   "version": "3.6.5"
  }
 },
 "nbformat": 4,
 "nbformat_minor": 2
}
